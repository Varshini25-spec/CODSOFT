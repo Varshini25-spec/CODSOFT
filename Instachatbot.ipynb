{
  "nbformat": 4,
  "nbformat_minor": 0,
  "metadata": {
    "colab": {
      "provenance": [],
      "authorship_tag": "ABX9TyNNysmI86GRMulqtvxmT6eJ",
      "include_colab_link": true
    },
    "kernelspec": {
      "name": "python3",
      "display_name": "Python 3"
    },
    "language_info": {
      "name": "python"
    }
  },
  "cells": [
    {
      "cell_type": "markdown",
      "metadata": {
        "id": "view-in-github",
        "colab_type": "text"
      },
      "source": [
        "<a href=\"https://colab.research.google.com/github/Varshini25-spec/CODSOFT/blob/main/Instachatbot.ipynb\" target=\"_parent\"><img src=\"https://colab.research.google.com/assets/colab-badge.svg\" alt=\"Open In Colab\"/></a>"
      ]
    },
    {
      "cell_type": "code",
      "execution_count": 10,
      "metadata": {
        "colab": {
          "base_uri": "https://localhost:8080/"
        },
        "id": "qii6NUh8CJLy",
        "outputId": "963fbc34-7241-435f-d523-d9491768b600"
      },
      "outputs": [
        {
          "output_type": "stream",
          "name": "stdout",
          "text": [
            "What is your name?\n",
            "Varshini\n",
            "Hi Varshini, I'm InstaBot.I give you insights about instagram, can you answer these questions?\n",
            "Yes\n",
            "Do you have instagram in your phone?Yeah\n",
            "Please tell me more.\n",
            "describe your account\n",
            "I help you to get to know instagram and how to use it.\n",
            "okay\n",
            "Why do you say that?\n",
            "I want some help\n",
            "Please tell me more.\n",
            "can you answer me?\n",
            "Why?\n",
            "answer why\n",
            "Tell me more!\n",
            "nope\n",
            "I see. Can you elaborate?\n",
            "bye\n",
            "Okay, have a nice Day!\n"
          ]
        }
      ],
      "source": [
        "import re\n",
        "import random\n",
        "\n",
        "\n",
        "class InstaBot:\n",
        "    # potential negative responses\n",
        "    negative_responses = (\"no\", \"nope\", \"nah\", \"naw\", \"not a chance\", \"sorry\")\n",
        "    # keywords for exiting the conversation\n",
        "    exit_commands = (\"quit\", \"pause\", \"exit\", \"goodbye\", \"bye\", \"later\")\n",
        "    # random starter questions\n",
        "    random_questions = (\n",
        "        \"Why are you here? \",\n",
        "        \"Do you have instagram in your phone?\",\n",
        "        \"Is your account public or private? \",\n",
        "        \"How many followers do you have?\",\n",
        "        \"Do you like watching reels?\",\n",
        "        \"What kind of accounts do you follow? \",\n",
        "        \"Is there anything you would like to add in ig? \",\n",
        "        \"How much time do you spend in ig everyday?\"\n",
        "    )\n",
        "\n",
        "    def __init__(self):\n",
        "        self.igbabble = {'describe_account_intent': r'.*\\s*your account.*',\n",
        "                            'answer_why_intent': r'why\\sare.*',\n",
        "                            'cubed_intent': r'.*cube.*(\\d+)'\n",
        "                            }\n",
        "\n",
        "    def greet(self):\n",
        "        self.name = input(\"What is your name?\\n\")\n",
        "        will_help = input(\n",
        "            f\"Hi {self.name}, I'm InstaBot.I give you insights about instagram, can you answer these questions?\\n\")\n",
        "        if will_help in self.negative_responses:\n",
        "            print(\"Ok, have a nice Day!\")\n",
        "            return\n",
        "        self.chat()\n",
        "\n",
        "    def make_exit(self, reply):\n",
        "        for command in self.exit_commands:\n",
        "            if reply == command:\n",
        "                print(\"Okay, have a nice Day!\")\n",
        "                return True\n",
        "\n",
        "    def chat(self):\n",
        "        reply = input(random.choice(self.random_questions)).lower()\n",
        "        while not self.make_exit(reply):\n",
        "            reply = input(self.match_reply(reply))\n",
        "\n",
        "    def match_reply(self, reply):\n",
        "        for key, value in self.igbabble.items():\n",
        "            intent = key\n",
        "            regex_pattern = value\n",
        "            found_match = re.match(regex_pattern, reply)\n",
        "            if found_match and intent == 'describe_account_intent':\n",
        "                return self.describe_account_intent()\n",
        "            elif found_match and intent == 'answer_why_intent':\n",
        "                return self.answer_why_intent()\n",
        "            elif found_match and intent == 'cubed_intent':\n",
        "                return self.cubed_intent(found_match.groups()[0])\n",
        "        if not found_match:\n",
        "            return self.no_match_intent()\n",
        "\n",
        "    def describe_account_intent(self):\n",
        "        responses = (\"I am a bot designed to explore instagram.\\n\",\n",
        "                     \"I help you to get to know instagram and how to use it.\\n\")\n",
        "        return random.choice(responses)\n",
        "\n",
        "    def answer_why_intent(self):\n",
        "        responses = (\"I'm here to help\\n\", \"I am here to collect data on your account and get to know you better\\n\",\n",
        "                     \"I heard the reels are very popular now\\n\")\n",
        "        return random.choice(responses)\n",
        "\n",
        "    def cubed_intent(self, number):\n",
        "        number = int(number)\n",
        "        cubed_number = number * number * number\n",
        "        return f\"The cube of {number} is {cubed_number}. Isn't that cool?\\n\"\n",
        "\n",
        "    def no_match_intent(self):\n",
        "        responses = (\n",
        "        \"Please tell me more.\\n\", \"Tell me more!\\n\", \"Why do you say that?\\n\", \"I see. Can you elaborate?\\n\",\n",
        "        \"Interesting. Can you tell me more?\\n\", \"I see. How do you think?\\n\", \"Why?\\n\",\n",
        "        \"How do you think I feel when you say that?\\n\")\n",
        "        return random.choice(responses)\n",
        "\n",
        "\n",
        "instaBot = InstaBot()\n",
        "instaBot.greet()"
      ]
    }
  ]
}